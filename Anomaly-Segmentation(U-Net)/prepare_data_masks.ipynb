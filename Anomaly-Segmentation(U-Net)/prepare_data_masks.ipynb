{
 "cells": [
  {
   "cell_type": "code",
   "execution_count": 1,
   "metadata": {},
   "outputs": [
    {
     "data": {
      "text/plain": [
       "'\\ncreate contours and semantic masks for data\\n'"
      ]
     },
     "execution_count": 1,
     "metadata": {},
     "output_type": "execute_result"
    }
   ],
   "source": [
    "'''\n",
    "create contours and semantic masks for data\n",
    "'''"
   ]
  },
  {
   "cell_type": "code",
   "execution_count": 4,
   "metadata": {},
   "outputs": [],
   "source": [
    "import matplotlib.pyplot as plt\n",
    "from glob import glob\n",
    "import numpy as np"
   ]
  },
  {
   "cell_type": "code",
   "execution_count": 5,
   "metadata": {},
   "outputs": [
    {
     "name": "stdout",
     "output_type": "stream",
     "text": [
      "664\n"
     ]
    }
   ],
   "source": [
    "imgs_paths = glob('C:/Users/leetw/PycharmProjects/PathoProject/Anomaly-Segmentation(U-Net)/input/stage1_train/*/images/*.png')\n",
    "masks_paths = glob('C:/Users/leetw/PycharmProjects/PathoProject/Anomaly-Segmentation(U-Net)/input/stage1_train/*/masks/*.png')\n",
    "print(len(imgs_paths)) # should be 664"
   ]
  },
  {
   "cell_type": "raw",
   "metadata": {},
   "source": [
    "imgs = []\n",
    "masks = {}\n",
    "contours = []\n",
    "for im_idx, im_path in enumerate(imgs_paths):\n",
    "    image = plt.imread(im_path)[:,:,:3]\n",
    "    imgs.append(image)\n",
    "    masks[im_idx] = np.zeros((image.shape[0], image.shape[1]))\n",
    "#     print(masks[im_idx].shape)\n",
    "#     print(image.shape)\n",
    "    plt.imshow(image)\n",
    "    plt.show\n",
    "    for mask_idx, mask_path in enumerate(masks_paths):\n",
    "#         print(plt.imread(mask).shape)\n",
    "#         print(masks[im_idx].shape) \n",
    "        try:\n",
    "            masks[im_idx] += mask_idx * plt.imread(mask_path)\n",
    "        except:\n",
    "            print(mask_path)\n",
    "            print(plt.imread(mask_path).shape)\n",
    "    \n",
    "    print(masks_idx.dtype)\n",
    "    plt.subplot(1,3,1)\n",
    "    plt.imshow(image)\n",
    "    plt.subplot(1,3,2)\n",
    "    plt.imshow(masks[im_idx])\n",
    "    plt.show\n",
    "    \n",
    "        "
   ]
  },
  {
   "cell_type": "code",
   "execution_count": 17,
   "metadata": {},
   "outputs": [
    {
     "name": "stdout",
     "output_type": "stream",
     "text": [
      "(256, 256)\n"
     ]
    },
    {
     "ename": "TypeError",
     "evalue": "'builtin_function_or_method' object is not subscriptable",
     "output_type": "error",
     "traceback": [
      "\u001b[1;31m---------------------------------------------------------------------------\u001b[0m",
      "\u001b[1;31mTypeError\u001b[0m                                 Traceback (most recent call last)",
      "\u001b[1;32m<ipython-input-17-bc5c13cd44b2>\u001b[0m in \u001b[0;36m<module>\u001b[1;34m()\u001b[0m\n\u001b[0;32m      2\u001b[0m \u001b[0mprint\u001b[0m\u001b[1;33m(\u001b[0m\u001b[0mmask\u001b[0m\u001b[1;33m.\u001b[0m\u001b[0mshape\u001b[0m\u001b[1;33m)\u001b[0m\u001b[1;33m\u001b[0m\u001b[0m\n\u001b[0;32m      3\u001b[0m \u001b[0mcv2\u001b[0m\u001b[1;33m.\u001b[0m\u001b[0mimshow\u001b[0m\u001b[1;33m(\u001b[0m\u001b[1;34m'masks'\u001b[0m\u001b[1;33m,\u001b[0m \u001b[0mmask\u001b[0m\u001b[1;33m)\u001b[0m\u001b[1;33m\u001b[0m\u001b[0m\n\u001b[1;32m----> 4\u001b[1;33m \u001b[0mcv2\u001b[0m\u001b[1;33m.\u001b[0m\u001b[0mwaitKey\u001b[0m\u001b[1;33m[\u001b[0m\u001b[1;36m0\u001b[0m\u001b[1;33m]\u001b[0m\u001b[1;33m\u001b[0m\u001b[0m\n\u001b[0m",
      "\u001b[1;31mTypeError\u001b[0m: 'builtin_function_or_method' object is not subscriptable"
     ]
    }
   ],
   "source": [
    "mask = cv2.imread(masks_paths[11], 0)\n",
    "print(mask.shape)\n",
    "cv2.imshow('masks', mask)\n",
    "cv2.waitKey[0]"
   ]
  },
  {
   "cell_type": "code",
   "execution_count": 20,
   "metadata": {},
   "outputs": [
    {
     "name": "stdout",
     "output_type": "stream",
     "text": [
      "{'m00': 276.5, 'm10': 65595.0, 'm01': 10254.333333333332, 'm20': 15567434.25, 'm11': 2433287.458333333, 'm02': 386533.25, 'm30': 3696013970.6000004, 'm21': 577631210.15, 'm12': 91746581.28333333, 'm03': 14797471.200000001, 'mu20': 6117.703887883574, 'mu11': 618.3986588306725, 'mu02': 6239.028983323369, 'mu30': -2055.446297645569, 'mu21': 875.0169006816577, 'mu12': 2165.1324795549735, 'mu03': -340.57453640922904, 'nu20': 0.08001993254460887, 'nu11': 0.008088691422825, 'nu02': 0.08160687204527492, 'nu30': -0.001616844655484247, 'nu21': 0.0006883013197406746, 'nu12': 0.0017031254389831085, 'nu03': -0.0002679010001954522}\n"
     ]
    },
    {
     "data": {
      "image/png": "[encoded data removed]",
      "text/plain": [
       "<Figure size 432x288 with 1 Axes>"
      ]
     },
     "metadata": {},
     "output_type": "display_data"
    }
   ],
   "source": [
    "import cv2\n",
    "ret,thresh = cv2.threshold(mask,128,255,0)\n",
    "plt.imshow(thresh)\n",
    "im, contours, hierarchy = cv2.findContours(thresh, 1, 2)\n",
    "plt.drawContours(im, countours, -1, (0,255,0), 3)\n",
    "cnt = contours[0]\n",
    "M = cv2.moments(cnt)\n",
    "print(M)"
   ]
  },
  {
   "cell_type": "code",
   "execution_count": 46,
   "metadata": {},
   "outputs": [],
   "source": [
    "from skimage import measure, morphology \n",
    "from scipy import ndimage"
   ]
  },
  {
   "cell_type": "code",
   "execution_count": 54,
   "metadata": {},
   "outputs": [
    {
     "data": {
      "text/plain": [
       "<matplotlib.image.AxesImage at 0x134bfd1fd68>"
      ]
     },
     "execution_count": 54,
     "metadata": {},
     "output_type": "execute_result"
    },
    {
     "data": {
      "image/png": "[encoded data removed]",
      "text/plain": [
       "<Figure size 432x288 with 1 Axes>"
      ]
     },
     "metadata": {},
     "output_type": "display_data"
    }
   ],
   "source": [
    "con = measure.find_contours(mask, 0.8)[0].astype('int')\n",
    "disk_kernel = morphology.disk(1)\n",
    "\n",
    "con_image = np.zeros(mask.shape)\n",
    "\n",
    "con_image[con[:,0], con[:,1]] = 1\n",
    "con_image = ndimage.binary_dilation(con_image, disk_kernel)\n",
    "# con = cv2.dilate(con, disk_kernel, iterations = 1)\n",
    "plt.imshow(con_image)\n"
   ]
  },
  {
   "cell_type": "code",
   "execution_count": 37,
   "metadata": {},
   "outputs": [
    {
     "data": {
      "text/plain": [
       "(85, 2)"
      ]
     },
     "execution_count": 37,
     "metadata": {},
     "output_type": "execute_result"
    }
   ],
   "source": [
    "con.shape"
   ]
  },
  {
   "cell_type": "code",
   "execution_count": null,
   "metadata": {},
   "outputs": [],
   "source": []
  }
 ],
 "metadata": {
  "kernelspec": {
   "display_name": "keras",
   "language": "python",
   "name": "keras"
  },
  "language_info": {
   "codemirror_mode": {
    "name": "ipython",
    "version": 3
   },
   "file_extension": ".py",
   "mimetype": "text/x-python",
   "name": "python",
   "nbconvert_exporter": "python",
   "pygments_lexer": "ipython3",
   "version": "3.6.5"
  }
 },
 "nbformat": 4,
 "nbformat_minor": 2
}
