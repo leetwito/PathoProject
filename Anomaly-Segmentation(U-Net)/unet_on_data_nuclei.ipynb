{
 "cells": [
  {
   "cell_type": "code",
   "execution_count": null,
   "metadata": {},
   "outputs": [],
   "source": [
    "import numpy as np\n",
    "import pandas as pd\n",
    "import matplotlib.pyplot as plt\n",
    "import cv2\n",
    "import os\n",
    "from os.path import join\n",
    "import glob\n",
    "import sys\n",
    "import random\n",
    "import warnings\n",
    "from tqdm import tqdm\n",
    "import itertools\n",
    "from itertools import chain\n",
    "from skimage.io import imread, imshow, imread_collection, concatenate_images\n",
    "from skimage.transform import resize\n",
    "from skimage.morphology import label\n",
    "from sklearn.model_selection import train_test_split\n",
    "import tensorflow as tf\n",
    "import keras\n",
    "from keras.models import Sequential\n",
    "from keras.layers import Dense, Dropout, Activation, Flatten, Conv2D, MaxPooling2D, BatchNormalization, Conv2D, UpSampling2D, Lambda\n",
    "from keras.layers import merge\n",
    "from keras.models import Model, load_model\n",
    "from keras.layers import Input\n",
    "from keras.layers.core import Dropout, Lambda\n",
    "from keras.layers.convolutional import Conv2D, Conv2DTranspose\n",
    "from keras.layers.pooling import MaxPooling2D\n",
    "from keras.layers.merge import concatenate\n",
    "from keras import backend as K\n",
    "from keras.callbacks import Callback, EarlyStopping, ReduceLROnPlateau, ModelCheckpoint\n",
    "from keras import initializers, layers, models\n",
    "from keras.utils import to_categorical\n",
    "from keras.utils.vis_utils import plot_model\n",
    "from keras.preprocessing.image import ImageDataGenerator\n",
    "from keras import callbacks\n",
    "# Remember to enable GPU\n",
    "# %matplotlib inline\n",
    "\n",
    "from models import *\n",
    "from losses_and_metrics import *\n",
    "\n",
    "import tensorflow as tf\n",
    "from keras.optimizers import Adam\n",
    "\n",
    "__READ_FROM_PICKLES__ = True\n",
    "\n",
    "# %load_ext autoreload\n",
    "# %autoreload 2"
   ]
  },
  {
   "cell_type": "code",
   "execution_count": 18,
   "metadata": {},
   "outputs": [],
   "source": [
    "def read_data_from_pickles(X_path=\"my_saved_files/X_train.npy\", \n",
    "                           Y_path=\"my_saved_files/Y_train.npy\", \n",
    "                           train_ids_path=\"my_saved_files/train_ids_ser.p\"):\n",
    "    \n",
    "    \n",
    "    X_train = np.load(X_path)\n",
    "#     if X_train.max()>1.: X_train = X_train/255.\n",
    "    Y_train = np.load(Y_path)\n",
    "    train_ids_ser = pd.read_pickle(train_ids_path)\n",
    "    \n",
    "    X_test = np.load(\"my_saved_files/X_test.npy\")\n",
    "#     if X_test.max()>1.: X_test = X_test/255.\n",
    "    test_ids_ser = pd.read_pickle(\"my_saved_files/test_ids_ser.p\")\n",
    "\n",
    "    print(X_train.shape, Y_train.shape, train_ids_ser.shape)\n",
    "    \n",
    "    return X_train, Y_train, train_ids_ser, X_test, test_ids_ser"
   ]
  },
  {
   "cell_type": "code",
   "execution_count": 19,
   "metadata": {},
   "outputs": [
    {
     "name": "stdout",
     "output_type": "stream",
     "text": [
      "(670, 128, 128, 3) (670, 128, 128, 1) (670,)\n"
     ]
    }
   ],
   "source": [
    "X, Y, train_ids_ser, X_, test_ids_ser = read_data_from_pickles()"
   ]
  },
  {
   "cell_type": "code",
   "execution_count": 20,
   "metadata": {},
   "outputs": [
    {
     "data": {
      "text/plain": [
       "(255, True)"
      ]
     },
     "execution_count": 20,
     "metadata": {},
     "output_type": "execute_result"
    }
   ],
   "source": [
    "X.max(), Y.max()"
   ]
  },
  {
   "cell_type": "code",
   "execution_count": 21,
   "metadata": {},
   "outputs": [],
   "source": [
    "X_train, X_test, Y_train, Y_test = train_test_split(X, Y, test_size=0.1, random_state=42)"
   ]
  },
  {
   "cell_type": "code",
   "execution_count": 22,
   "metadata": {},
   "outputs": [
    {
     "name": "stdout",
     "output_type": "stream",
     "text": [
      "__________________________________________________________________________________________________\n",
      "Layer (type)                    Output Shape         Param #     Connected to                     \n",
      "==================================================================================================\n",
      "l0_input (InputLayer)           (None, 128, 128, 3)  0                                            \n",
      "__________________________________________________________________________________________________\n",
      "l0_normalize (Lambda)           (None, 128, 128, 3)  0           l0_input[0][0]                   \n",
      "__________________________________________________________________________________________________\n",
      "enc_l1_1c (Conv2D)              (None, 128, 128, 16) 448         l0_normalize[0][0]               \n",
      "__________________________________________________________________________________________________\n",
      "enc_l1_2c (Conv2D)              (None, 128, 128, 16) 2320        enc_l1_1c[0][0]                  \n",
      "__________________________________________________________________________________________________\n",
      "enc_l1_3p (MaxPooling2D)        (None, 64, 64, 16)   0           enc_l1_2c[0][0]                  \n",
      "__________________________________________________________________________________________________\n",
      "enc_l2_1c (Conv2D)              (None, 64, 64, 32)   4640        enc_l1_3p[0][0]                  \n",
      "__________________________________________________________________________________________________\n",
      "enc_l2_2c (Conv2D)              (None, 64, 64, 32)   9248        enc_l2_1c[0][0]                  \n",
      "__________________________________________________________________________________________________\n",
      "enc_l2_3p (MaxPooling2D)        (None, 32, 32, 32)   0           enc_l2_2c[0][0]                  \n",
      "__________________________________________________________________________________________________\n",
      "enc_l3_1c (Conv2D)              (None, 32, 32, 64)   18496       enc_l2_3p[0][0]                  \n",
      "__________________________________________________________________________________________________\n",
      "enc_l3_2c (Conv2D)              (None, 32, 32, 64)   36928       enc_l3_1c[0][0]                  \n",
      "__________________________________________________________________________________________________\n",
      "enc_l3_3p (MaxPooling2D)        (None, 16, 16, 64)   0           enc_l3_2c[0][0]                  \n",
      "__________________________________________________________________________________________________\n",
      "enc_l4_1c (Conv2D)              (None, 16, 16, 128)  73856       enc_l3_3p[0][0]                  \n",
      "__________________________________________________________________________________________________\n",
      "enc_l4_2c (Conv2D)              (None, 16, 16, 128)  147584      enc_l4_1c[0][0]                  \n",
      "__________________________________________________________________________________________________\n",
      "enc_l4_3p (MaxPooling2D)        (None, 8, 8, 128)    0           enc_l4_2c[0][0]                  \n",
      "__________________________________________________________________________________________________\n",
      "enc_l5_1c (Conv2D)              (None, 8, 8, 256)    295168      enc_l4_3p[0][0]                  \n",
      "__________________________________________________________________________________________________\n",
      "enc_l5_2c (Conv2D)              (None, 8, 8, 256)    590080      enc_l5_1c[0][0]                  \n",
      "__________________________________________________________________________________________________\n",
      "enc_l5_3p (MaxPooling2D)        (None, 4, 4, 256)    0           enc_l5_2c[0][0]                  \n",
      "__________________________________________________________________________________________________\n",
      "enc_l6_1c (Conv2D)              (None, 4, 4, 512)    1180160     enc_l5_3p[0][0]                  \n",
      "__________________________________________________________________________________________________\n",
      "enc_l6_2c (Conv2D)              (None, 4, 4, 512)    2359808     enc_l6_1c[0][0]                  \n",
      "__________________________________________________________________________________________________\n",
      "enc_l6_3p (MaxPooling2D)        (None, 2, 2, 512)    0           enc_l6_2c[0][0]                  \n",
      "__________________________________________________________________________________________________\n",
      "mid_1conv (Conv2D)              (None, 2, 2, 1024)   4719616     enc_l6_3p[0][0]                  \n",
      "__________________________________________________________________________________________________\n",
      "mid_2conv (Conv2D)              (None, 2, 2, 1024)   9438208     mid_1conv[0][0]                  \n",
      "__________________________________________________________________________________________________\n",
      "dec_l1_1u (Conv2DTranspose)     (None, 4, 4, 512)    2097664     mid_2conv[0][0]                  \n",
      "__________________________________________________________________________________________________\n",
      "dec_l1_2concat (Concatenate)    (None, 4, 4, 1024)   0           dec_l1_1u[0][0]                  \n",
      "                                                                 enc_l6_2c[0][0]                  \n",
      "__________________________________________________________________________________________________\n",
      "dec_l1_3c (Conv2D)              (None, 4, 4, 512)    4719104     dec_l1_2concat[0][0]             \n",
      "__________________________________________________________________________________________________\n",
      "dec_l1_4c (Conv2D)              (None, 4, 4, 512)    2359808     dec_l1_3c[0][0]                  \n",
      "__________________________________________________________________________________________________\n",
      "dec_l2_1u (Conv2DTranspose)     (None, 8, 8, 256)    524544      dec_l1_4c[0][0]                  \n",
      "__________________________________________________________________________________________________\n",
      "dec_l2_2concat (Concatenate)    (None, 8, 8, 512)    0           dec_l2_1u[0][0]                  \n",
      "                                                                 enc_l5_2c[0][0]                  \n",
      "__________________________________________________________________________________________________\n",
      "dec_l2_3c (Conv2D)              (None, 8, 8, 256)    1179904     dec_l2_2concat[0][0]             \n",
      "__________________________________________________________________________________________________\n",
      "dec_l2_4c (Conv2D)              (None, 8, 8, 256)    590080      dec_l2_3c[0][0]                  \n",
      "__________________________________________________________________________________________________\n",
      "dec_l3_1u (Conv2DTranspose)     (None, 16, 16, 128)  131200      dec_l2_4c[0][0]                  \n",
      "__________________________________________________________________________________________________\n",
      "dec_l3_2concat (Concatenate)    (None, 16, 16, 256)  0           dec_l3_1u[0][0]                  \n",
      "                                                                 enc_l4_2c[0][0]                  \n",
      "__________________________________________________________________________________________________\n",
      "dec_l3_3c (Conv2D)              (None, 16, 16, 128)  295040      dec_l3_2concat[0][0]             \n",
      "__________________________________________________________________________________________________\n",
      "dec_l3_4c (Conv2D)              (None, 16, 16, 128)  147584      dec_l3_3c[0][0]                  \n",
      "__________________________________________________________________________________________________\n",
      "dec_l4_1u (Conv2DTranspose)     (None, 32, 32, 64)   32832       dec_l3_4c[0][0]                  \n",
      "__________________________________________________________________________________________________\n",
      "dec_l4_2concat (Concatenate)    (None, 32, 32, 128)  0           dec_l4_1u[0][0]                  \n",
      "                                                                 enc_l3_2c[0][0]                  \n",
      "__________________________________________________________________________________________________\n",
      "dec_l4_3c (Conv2D)              (None, 32, 32, 64)   73792       dec_l4_2concat[0][0]             \n",
      "__________________________________________________________________________________________________\n",
      "dec_l4_4c (Conv2D)              (None, 32, 32, 64)   36928       dec_l4_3c[0][0]                  \n"
     ]
    },
    {
     "name": "stdout",
     "output_type": "stream",
     "text": [
      "__________________________________________________________________________________________________\n",
      "dec_l5_1u (Conv2DTranspose)     (None, 64, 64, 32)   8224        dec_l4_4c[0][0]                  \n",
      "__________________________________________________________________________________________________\n",
      "dec_l5_2concat (Concatenate)    (None, 64, 64, 64)   0           dec_l5_1u[0][0]                  \n",
      "                                                                 enc_l2_2c[0][0]                  \n",
      "__________________________________________________________________________________________________\n",
      "dec_l5_3c (Conv2D)              (None, 64, 64, 32)   18464       dec_l5_2concat[0][0]             \n",
      "__________________________________________________________________________________________________\n",
      "dec_l5_4c (Conv2D)              (None, 64, 64, 32)   9248        dec_l5_3c[0][0]                  \n",
      "__________________________________________________________________________________________________\n",
      "dec_l6_1u (Conv2DTranspose)     (None, 128, 128, 16) 2064        dec_l5_4c[0][0]                  \n",
      "__________________________________________________________________________________________________\n",
      "dec_l6_2concat (Concatenate)    (None, 128, 128, 32) 0           dec_l6_1u[0][0]                  \n",
      "                                                                 enc_l1_2c[0][0]                  \n",
      "__________________________________________________________________________________________________\n",
      "dec_l6_3c (Conv2D)              (None, 128, 128, 16) 4624        dec_l6_2concat[0][0]             \n",
      "__________________________________________________________________________________________________\n",
      "dec_l6_4c (Conv2D)              (None, 128, 128, 16) 2320        dec_l6_3c[0][0]                  \n",
      "__________________________________________________________________________________________________\n",
      "conv2d_2 (Conv2D)               (None, 128, 128, 1)  17          dec_l6_4c[0][0]                  \n",
      "==================================================================================================\n",
      "Total params: 31,110,001\n",
      "Trainable params: 31,110,001\n",
      "Non-trainable params: 0\n",
      "__________________________________________________________________________________________________\n"
     ]
    }
   ],
   "source": [
    "unet = myUnetHP()\n",
    "model = unet.build(n_depth_layers=6, n_init_filters=16)"
   ]
  },
  {
   "cell_type": "code",
   "execution_count": 24,
   "metadata": {},
   "outputs": [],
   "source": [
    "# Compile model:\n",
    "model.compile(optimizer=Adam(lr = 1e-3), loss='binary_crossentropy', metrics=[mean_iou])"
   ]
  },
  {
   "cell_type": "code",
   "execution_count": 25,
   "metadata": {},
   "outputs": [
    {
     "name": "stdout",
     "output_type": "stream",
     "text": [
      "Train on 542 samples, validate on 61 samples\n",
      "Epoch 1/200\n",
      "542/542 [==============================] - ETA: 2:06 - loss: 0.7260 - mean_iou: 0.0000e+ - ETA: 1:07 - loss: 0.7131 - mean_iou: 0.0397   - ETA: 47s - loss: 0.7056 - mean_iou: 0.1090 - ETA: 36s - loss: 0.6991 - mean_iou: 0.163 - ETA: 30s - loss: 0.6882 - mean_iou: 0.204 - ETA: 26s - loss: 0.6846 - mean_iou: 0.235 - ETA: 23s - loss: 0.6770 - mean_iou: 0.258 - ETA: 20s - loss: 0.6648 - mean_iou: 0.276 - ETA: 18s - loss: 0.7046 - mean_iou: 0.291 - ETA: 16s - loss: 0.6961 - mean_iou: 0.303 - ETA: 15s - loss: 0.6879 - mean_iou: 0.314 - ETA: 14s - loss: 0.6791 - mean_iou: 0.323 - ETA: 13s - loss: 0.6732 - mean_iou: 0.330 - ETA: 12s - loss: 0.6685 - mean_iou: 0.337 - ETA: 11s - loss: 0.6645 - mean_iou: 0.343 - ETA: 10s - loss: 0.6600 - mean_iou: 0.349 - ETA: 9s - loss: 0.6576 - mean_iou: 0.353 - ETA: 8s - loss: 0.6522 - mean_iou: 0.35 - ETA: 8s - loss: 0.6500 - mean_iou: 0.36 - ETA: 7s - loss: 0.6446 - mean_iou: 0.36 - ETA: 6s - loss: 0.6417 - mean_iou: 0.36 - ETA: 6s - loss: 0.6368 - mean_iou: 0.37 - ETA: 5s - loss: 0.6301 - mean_iou: 0.37 - ETA: 5s - loss: 0.6262 - mean_iou: 0.37 - ETA: 4s - loss: 0.6209 - mean_iou: 0.37 - ETA: 3s - loss: 0.6215 - mean_iou: 0.38 - ETA: 3s - loss: 0.6165 - mean_iou: 0.38 - ETA: 2s - loss: 0.6164 - mean_iou: 0.38 - ETA: 2s - loss: 0.6106 - mean_iou: 0.38 - ETA: 1s - loss: 0.6067 - mean_iou: 0.38 - ETA: 1s - loss: 0.6037 - mean_iou: 0.38 - ETA: 0s - loss: 0.6003 - mean_iou: 0.39 - ETA: 0s - loss: 0.5971 - mean_iou: 0.39 - 17s 31ms/step - loss: 0.5931 - mean_iou: 0.3926 - val_loss: 0.4623 - val_mean_iou: 0.4297\n",
      "\n",
      "Epoch 00001: val_loss improved from inf to 0.46235, saving model to model-dsbowl2018-1.h5\n",
      "Epoch 2/200\n",
      "542/542 [==============================] - ETA: 11s - loss: 0.4678 - mean_iou: 0.429 - ETA: 11s - loss: 0.4596 - mean_iou: 0.429 - ETA: 11s - loss: 0.4510 - mean_iou: 0.429 - ETA: 11s - loss: 0.4337 - mean_iou: 0.428 - ETA: 10s - loss: 0.4433 - mean_iou: 0.428 - ETA: 10s - loss: 0.4256 - mean_iou: 0.428 - ETA: 9s - loss: 0.4153 - mean_iou: 0.428 - ETA: 9s - loss: 0.4113 - mean_iou: 0.42 - ETA: 9s - loss: 0.4103 - mean_iou: 0.42 - ETA: 8s - loss: 0.4021 - mean_iou: 0.42 - ETA: 8s - loss: 0.3904 - mean_iou: 0.42 - ETA: 8s - loss: 0.3845 - mean_iou: 0.42 - ETA: 7s - loss: 0.3834 - mean_iou: 0.42 - ETA: 7s - loss: 0.3789 - mean_iou: 0.42 - ETA: 7s - loss: 0.3831 - mean_iou: 0.42 - ETA: 6s - loss: 0.3818 - mean_iou: 0.42 - ETA: 6s - loss: 0.3773 - mean_iou: 0.42 - ETA: 5s - loss: 0.3772 - mean_iou: 0.42 - ETA: 5s - loss: 0.3705 - mean_iou: 0.42 - ETA: 5s - loss: 0.3643 - mean_iou: 0.42 - ETA: 4s - loss: 0.3631 - mean_iou: 0.42 - ETA: 4s - loss: 0.3614 - mean_iou: 0.42 - ETA: 4s - loss: 0.3594 - mean_iou: 0.42 - ETA: 3s - loss: 0.3566 - mean_iou: 0.42 - ETA: 3s - loss: 0.3527 - mean_iou: 0.42 - ETA: 2s - loss: 0.3507 - mean_iou: 0.42 - ETA: 2s - loss: 0.3479 - mean_iou: 0.42 - ETA: 2s - loss: 0.3465 - mean_iou: 0.42 - ETA: 1s - loss: 0.3451 - mean_iou: 0.42 - ETA: 1s - loss: 0.3404 - mean_iou: 0.42 - ETA: 1s - loss: 0.3387 - mean_iou: 0.42 - ETA: 0s - loss: 0.3370 - mean_iou: 0.42 - ETA: 0s - loss: 0.3373 - mean_iou: 0.42 - 13s 24ms/step - loss: 0.3363 - mean_iou: 0.4285 - val_loss: 0.2579 - val_mean_iou: 0.4304\n",
      "\n",
      "Epoch 00002: val_loss improved from 0.46235 to 0.25791, saving model to model-dsbowl2018-1.h5\n",
      "Epoch 3/200\n",
      "542/542 [==============================] - ETA: 12s - loss: 0.2394 - mean_iou: 0.432 - ETA: 11s - loss: 0.2769 - mean_iou: 0.433 - ETA: 11s - loss: 0.2574 - mean_iou: 0.433 - ETA: 10s - loss: 0.2430 - mean_iou: 0.434 - ETA: 10s - loss: 0.2482 - mean_iou: 0.435 - ETA: 10s - loss: 0.2473 - mean_iou: 0.436 - ETA: 9s - loss: 0.2391 - mean_iou: 0.437 - ETA: 9s - loss: 0.2378 - mean_iou: 0.43 - ETA: 9s - loss: 0.2288 - mean_iou: 0.43 - ETA: 8s - loss: 0.2258 - mean_iou: 0.44 - ETA: 8s - loss: 0.2240 - mean_iou: 0.44 - ETA: 8s - loss: 0.2201 - mean_iou: 0.44 - ETA: 7s - loss: 0.2229 - mean_iou: 0.44 - ETA: 7s - loss: 0.2186 - mean_iou: 0.44 - ETA: 6s - loss: 0.2173 - mean_iou: 0.44 - ETA: 6s - loss: 0.2159 - mean_iou: 0.44 - ETA: 6s - loss: 0.2168 - mean_iou: 0.45 - ETA: 5s - loss: 0.2145 - mean_iou: 0.45 - ETA: 5s - loss: 0.2122 - mean_iou: 0.45 - ETA: 5s - loss: 0.2121 - mean_iou: 0.45 - ETA: 4s - loss: 0.2136 - mean_iou: 0.45 - ETA: 4s - loss: 0.2109 - mean_iou: 0.45 - ETA: 3s - loss: 0.2088 - mean_iou: 0.45 - ETA: 3s - loss: 0.2090 - mean_iou: 0.45 - ETA: 3s - loss: 0.2080 - mean_iou: 0.46 - ETA: 2s - loss: 0.2085 - mean_iou: 0.46 - ETA: 2s - loss: 0.2071 - mean_iou: 0.46 - ETA: 2s - loss: 0.2057 - mean_iou: 0.46 - ETA: 1s - loss: 0.2095 - mean_iou: 0.46 - ETA: 1s - loss: 0.2094 - mean_iou: 0.46 - ETA: 1s - loss: 0.2103 - mean_iou: 0.46 - ETA: 0s - loss: 0.2105 - mean_iou: 0.47 - ETA: 0s - loss: 0.2086 - mean_iou: 0.47 - 13s 24ms/step - loss: 0.2071 - mean_iou: 0.4724 - val_loss: 0.2073 - val_mean_iou: 0.5166\n",
      "\n",
      "Epoch 00003: val_loss improved from 0.25791 to 0.20734, saving model to model-dsbowl2018-1.h5\n",
      "Epoch 4/200\n",
      "542/542 [==============================] - ETA: 11s - loss: 0.1819 - mean_iou: 0.520 - ETA: 11s - loss: 0.1906 - mean_iou: 0.521 - ETA: 11s - loss: 0.1987 - mean_iou: 0.522 - ETA: 11s - loss: 0.1990 - mean_iou: 0.522 - ETA: 10s - loss: 0.2025 - mean_iou: 0.524 - ETA: 10s - loss: 0.1969 - mean_iou: 0.525 - ETA: 9s - loss: 0.1942 - mean_iou: 0.526 - ETA: 9s - loss: 0.1908 - mean_iou: 0.52 - ETA: 8s - loss: 0.1834 - mean_iou: 0.52 - ETA: 8s - loss: 0.1774 - mean_iou: 0.52 - ETA: 8s - loss: 0.1778 - mean_iou: 0.53 - ETA: 7s - loss: 0.1800 - mean_iou: 0.53 - ETA: 7s - loss: 0.1768 - mean_iou: 0.53 - ETA: 7s - loss: 0.1763 - mean_iou: 0.53 - ETA: 6s - loss: 0.1747 - mean_iou: 0.53 - ETA: 6s - loss: 0.1720 - mean_iou: 0.53 - ETA: 6s - loss: 0.1712 - mean_iou: 0.53 - ETA: 5s - loss: 0.1666 - mean_iou: 0.53 - ETA: 5s - loss: 0.1663 - mean_iou: 0.53 - ETA: 4s - loss: 0.1659 - mean_iou: 0.53 - ETA: 4s - loss: 0.1668 - mean_iou: 0.53 - ETA: 4s - loss: 0.1667 - mean_iou: 0.54 - ETA: 3s - loss: 0.1647 - mean_iou: 0.54 - ETA: 3s - loss: 0.1670 - mean_iou: 0.54 - ETA: 3s - loss: 0.1679 - mean_iou: 0.54 - ETA: 2s - loss: 0.1677 - mean_iou: 0.54 - ETA: 2s - loss: 0.1674 - mean_iou: 0.54 - ETA: 2s - loss: 0.1682 - mean_iou: 0.54 - ETA: 1s - loss: 0.1659 - mean_iou: 0.54 - ETA: 1s - loss: 0.1647 - mean_iou: 0.54 - ETA: 1s - loss: 0.1645 - mean_iou: 0.54 - ETA: 0s - loss: 0.1637 - mean_iou: 0.54 - ETA: 0s - loss: 0.1634 - mean_iou: 0.55 - 13s 23ms/step - loss: 0.1628 - mean_iou: 0.5510 - val_loss: 0.1786 - val_mean_iou: 0.5832\n",
      "\n",
      "Epoch 00004: val_loss improved from 0.20734 to 0.17856, saving model to model-dsbowl2018-1.h5\n",
      "Epoch 5/200\n",
      "542/542 [==============================] - ETA: 10s - loss: 0.1676 - mean_iou: 0.586 - ETA: 11s - loss: 0.1592 - mean_iou: 0.587 - ETA: 10s - loss: 0.1790 - mean_iou: 0.588 - ETA: 10s - loss: 0.1850 - mean_iou: 0.589 - ETA: 10s - loss: 0.1724 - mean_iou: 0.589 - ETA: 9s - loss: 0.1652 - mean_iou: 0.590 - ETA: 9s - loss: 0.1763 - mean_iou: 0.59 - ETA: 9s - loss: 0.1768 - mean_iou: 0.59 - ETA: 9s - loss: 0.1739 - mean_iou: 0.59 - ETA: 8s - loss: 0.1702 - mean_iou: 0.59 - ETA: 8s - loss: 0.1694 - mean_iou: 0.59 - ETA: 8s - loss: 0.1656 - mean_iou: 0.59 - ETA: 7s - loss: 0.1652 - mean_iou: 0.59 - ETA: 7s - loss: 0.1593 - mean_iou: 0.59 - ETA: 6s - loss: 0.1575 - mean_iou: 0.59 - ETA: 6s - loss: 0.1567 - mean_iou: 0.59 - ETA: 6s - loss: 0.1559 - mean_iou: 0.59 - ETA: 5s - loss: 0.1521 - mean_iou: 0.59 - ETA: 5s - loss: 0.1524 - mean_iou: 0.59 - ETA: 5s - loss: 0.1519 - mean_iou: 0.59 - ETA: 4s - loss: 0.1501 - mean_iou: 0.60 - ETA: 4s - loss: 0.1489 - mean_iou: 0.60 - ETA: 3s - loss: 0.1481 - mean_iou: 0.60 - ETA: 3s - loss: 0.1466 - mean_iou: 0.60 - ETA: 3s - loss: 0.1451 - mean_iou: 0.60 - ETA: 2s - loss: 0.1432 - mean_iou: 0.60 - ETA: 2s - loss: 0.1421 - mean_iou: 0.60 - ETA: 2s - loss: 0.1407 - mean_iou: 0.60 - ETA: 1s - loss: 0.1413 - mean_iou: 0.60 - ETA: 1s - loss: 0.1411 - mean_iou: 0.60 - ETA: 1s - loss: 0.1397 - mean_iou: 0.60 - ETA: 0s - loss: 0.1395 - mean_iou: 0.60 - ETA: 0s - loss: 0.1387 - mean_iou: 0.60 - 13s 24ms/step - loss: 0.1385 - mean_iou: 0.6080 - val_loss: 0.1424 - val_mean_iou: 0.6299\n",
      "\n"
     ]
    },
    {
     "name": "stdout",
     "output_type": "stream",
     "text": [
      "Epoch 00005: val_loss improved from 0.17856 to 0.14238, saving model to model-dsbowl2018-1.h5\n"
     ]
    },
    {
     "ename": "KeyboardInterrupt",
     "evalue": "",
     "output_type": "error",
     "traceback": [
      "\u001b[1;31m---------------------------------------------------------------------------\u001b[0m",
      "\u001b[1;31mKeyboardInterrupt\u001b[0m                         Traceback (most recent call last)",
      "\u001b[1;32m<ipython-input-25-2c0a191205c8>\u001b[0m in \u001b[0;36m<module>\u001b[1;34m()\u001b[0m\n\u001b[0;32m      4\u001b[0m \u001b[1;33m\u001b[0m\u001b[0m\n\u001b[0;32m      5\u001b[0m results = model.fit(X_train, Y_train, validation_split=0.1, batch_size=16, epochs=200, \n\u001b[1;32m----> 6\u001b[1;33m                     callbacks=[checkpointer, reduce_lr])\n\u001b[0m",
      "\u001b[1;32mC:\\ProgramData\\Miniconda3\\envs\\keras\\lib\\site-packages\\keras\\engine\\training.py\u001b[0m in \u001b[0;36mfit\u001b[1;34m(self, x, y, batch_size, epochs, verbose, callbacks, validation_split, validation_data, shuffle, class_weight, sample_weight, initial_epoch, steps_per_epoch, validation_steps, **kwargs)\u001b[0m\n\u001b[0;32m   1703\u001b[0m                               \u001b[0minitial_epoch\u001b[0m\u001b[1;33m=\u001b[0m\u001b[0minitial_epoch\u001b[0m\u001b[1;33m,\u001b[0m\u001b[1;33m\u001b[0m\u001b[0m\n\u001b[0;32m   1704\u001b[0m                               \u001b[0msteps_per_epoch\u001b[0m\u001b[1;33m=\u001b[0m\u001b[0msteps_per_epoch\u001b[0m\u001b[1;33m,\u001b[0m\u001b[1;33m\u001b[0m\u001b[0m\n\u001b[1;32m-> 1705\u001b[1;33m                               validation_steps=validation_steps)\n\u001b[0m\u001b[0;32m   1706\u001b[0m \u001b[1;33m\u001b[0m\u001b[0m\n\u001b[0;32m   1707\u001b[0m     def evaluate(self, x=None, y=None,\n",
      "\u001b[1;32mC:\\ProgramData\\Miniconda3\\envs\\keras\\lib\\site-packages\\keras\\engine\\training.py\u001b[0m in \u001b[0;36m_fit_loop\u001b[1;34m(self, f, ins, out_labels, batch_size, epochs, verbose, callbacks, val_f, val_ins, shuffle, callback_metrics, initial_epoch, steps_per_epoch, validation_steps)\u001b[0m\n\u001b[0;32m   1253\u001b[0m                             \u001b[1;32mfor\u001b[0m \u001b[0ml\u001b[0m\u001b[1;33m,\u001b[0m \u001b[0mo\u001b[0m \u001b[1;32min\u001b[0m \u001b[0mzip\u001b[0m\u001b[1;33m(\u001b[0m\u001b[0mout_labels\u001b[0m\u001b[1;33m,\u001b[0m \u001b[0mval_outs\u001b[0m\u001b[1;33m)\u001b[0m\u001b[1;33m:\u001b[0m\u001b[1;33m\u001b[0m\u001b[0m\n\u001b[0;32m   1254\u001b[0m                                 \u001b[0mepoch_logs\u001b[0m\u001b[1;33m[\u001b[0m\u001b[1;34m'val_'\u001b[0m \u001b[1;33m+\u001b[0m \u001b[0ml\u001b[0m\u001b[1;33m]\u001b[0m \u001b[1;33m=\u001b[0m \u001b[0mo\u001b[0m\u001b[1;33m\u001b[0m\u001b[0m\n\u001b[1;32m-> 1255\u001b[1;33m             \u001b[0mcallbacks\u001b[0m\u001b[1;33m.\u001b[0m\u001b[0mon_epoch_end\u001b[0m\u001b[1;33m(\u001b[0m\u001b[0mepoch\u001b[0m\u001b[1;33m,\u001b[0m \u001b[0mepoch_logs\u001b[0m\u001b[1;33m)\u001b[0m\u001b[1;33m\u001b[0m\u001b[0m\n\u001b[0m\u001b[0;32m   1256\u001b[0m             \u001b[1;32mif\u001b[0m \u001b[0mcallback_model\u001b[0m\u001b[1;33m.\u001b[0m\u001b[0mstop_training\u001b[0m\u001b[1;33m:\u001b[0m\u001b[1;33m\u001b[0m\u001b[0m\n\u001b[0;32m   1257\u001b[0m                 \u001b[1;32mbreak\u001b[0m\u001b[1;33m\u001b[0m\u001b[0m\n",
      "\u001b[1;32mC:\\ProgramData\\Miniconda3\\envs\\keras\\lib\\site-packages\\keras\\callbacks.py\u001b[0m in \u001b[0;36mon_epoch_end\u001b[1;34m(self, epoch, logs)\u001b[0m\n\u001b[0;32m     75\u001b[0m         \u001b[0mlogs\u001b[0m \u001b[1;33m=\u001b[0m \u001b[0mlogs\u001b[0m \u001b[1;32mor\u001b[0m \u001b[1;33m{\u001b[0m\u001b[1;33m}\u001b[0m\u001b[1;33m\u001b[0m\u001b[0m\n\u001b[0;32m     76\u001b[0m         \u001b[1;32mfor\u001b[0m \u001b[0mcallback\u001b[0m \u001b[1;32min\u001b[0m \u001b[0mself\u001b[0m\u001b[1;33m.\u001b[0m\u001b[0mcallbacks\u001b[0m\u001b[1;33m:\u001b[0m\u001b[1;33m\u001b[0m\u001b[0m\n\u001b[1;32m---> 77\u001b[1;33m             \u001b[0mcallback\u001b[0m\u001b[1;33m.\u001b[0m\u001b[0mon_epoch_end\u001b[0m\u001b[1;33m(\u001b[0m\u001b[0mepoch\u001b[0m\u001b[1;33m,\u001b[0m \u001b[0mlogs\u001b[0m\u001b[1;33m)\u001b[0m\u001b[1;33m\u001b[0m\u001b[0m\n\u001b[0m\u001b[0;32m     78\u001b[0m \u001b[1;33m\u001b[0m\u001b[0m\n\u001b[0;32m     79\u001b[0m     \u001b[1;32mdef\u001b[0m \u001b[0mon_batch_begin\u001b[0m\u001b[1;33m(\u001b[0m\u001b[0mself\u001b[0m\u001b[1;33m,\u001b[0m \u001b[0mbatch\u001b[0m\u001b[1;33m,\u001b[0m \u001b[0mlogs\u001b[0m\u001b[1;33m=\u001b[0m\u001b[1;32mNone\u001b[0m\u001b[1;33m)\u001b[0m\u001b[1;33m:\u001b[0m\u001b[1;33m\u001b[0m\u001b[0m\n",
      "\u001b[1;32mC:\\ProgramData\\Miniconda3\\envs\\keras\\lib\\site-packages\\keras\\callbacks.py\u001b[0m in \u001b[0;36mon_epoch_end\u001b[1;34m(self, epoch, logs)\u001b[0m\n\u001b[0;32m    445\u001b[0m                             \u001b[0mself\u001b[0m\u001b[1;33m.\u001b[0m\u001b[0mmodel\u001b[0m\u001b[1;33m.\u001b[0m\u001b[0msave_weights\u001b[0m\u001b[1;33m(\u001b[0m\u001b[0mfilepath\u001b[0m\u001b[1;33m,\u001b[0m \u001b[0moverwrite\u001b[0m\u001b[1;33m=\u001b[0m\u001b[1;32mTrue\u001b[0m\u001b[1;33m)\u001b[0m\u001b[1;33m\u001b[0m\u001b[0m\n\u001b[0;32m    446\u001b[0m                         \u001b[1;32melse\u001b[0m\u001b[1;33m:\u001b[0m\u001b[1;33m\u001b[0m\u001b[0m\n\u001b[1;32m--> 447\u001b[1;33m                             \u001b[0mself\u001b[0m\u001b[1;33m.\u001b[0m\u001b[0mmodel\u001b[0m\u001b[1;33m.\u001b[0m\u001b[0msave\u001b[0m\u001b[1;33m(\u001b[0m\u001b[0mfilepath\u001b[0m\u001b[1;33m,\u001b[0m \u001b[0moverwrite\u001b[0m\u001b[1;33m=\u001b[0m\u001b[1;32mTrue\u001b[0m\u001b[1;33m)\u001b[0m\u001b[1;33m\u001b[0m\u001b[0m\n\u001b[0m\u001b[0;32m    448\u001b[0m                     \u001b[1;32melse\u001b[0m\u001b[1;33m:\u001b[0m\u001b[1;33m\u001b[0m\u001b[0m\n\u001b[0;32m    449\u001b[0m                         \u001b[1;32mif\u001b[0m \u001b[0mself\u001b[0m\u001b[1;33m.\u001b[0m\u001b[0mverbose\u001b[0m \u001b[1;33m>\u001b[0m \u001b[1;36m0\u001b[0m\u001b[1;33m:\u001b[0m\u001b[1;33m\u001b[0m\u001b[0m\n",
      "\u001b[1;32mC:\\ProgramData\\Miniconda3\\envs\\keras\\lib\\site-packages\\keras\\engine\\topology.py\u001b[0m in \u001b[0;36msave\u001b[1;34m(self, filepath, overwrite, include_optimizer)\u001b[0m\n\u001b[0;32m   2578\u001b[0m         \"\"\"\n\u001b[0;32m   2579\u001b[0m         \u001b[1;32mfrom\u001b[0m \u001b[1;33m.\u001b[0m\u001b[1;33m.\u001b[0m\u001b[0mmodels\u001b[0m \u001b[1;32mimport\u001b[0m \u001b[0msave_model\u001b[0m\u001b[1;33m\u001b[0m\u001b[0m\n\u001b[1;32m-> 2580\u001b[1;33m         \u001b[0msave_model\u001b[0m\u001b[1;33m(\u001b[0m\u001b[0mself\u001b[0m\u001b[1;33m,\u001b[0m \u001b[0mfilepath\u001b[0m\u001b[1;33m,\u001b[0m \u001b[0moverwrite\u001b[0m\u001b[1;33m,\u001b[0m \u001b[0minclude_optimizer\u001b[0m\u001b[1;33m)\u001b[0m\u001b[1;33m\u001b[0m\u001b[0m\n\u001b[0m\u001b[0;32m   2581\u001b[0m \u001b[1;33m\u001b[0m\u001b[0m\n\u001b[0;32m   2582\u001b[0m     \u001b[1;32mdef\u001b[0m \u001b[0msave_weights\u001b[0m\u001b[1;33m(\u001b[0m\u001b[0mself\u001b[0m\u001b[1;33m,\u001b[0m \u001b[0mfilepath\u001b[0m\u001b[1;33m,\u001b[0m \u001b[0moverwrite\u001b[0m\u001b[1;33m=\u001b[0m\u001b[1;32mTrue\u001b[0m\u001b[1;33m)\u001b[0m\u001b[1;33m:\u001b[0m\u001b[1;33m\u001b[0m\u001b[0m\n",
      "\u001b[1;32mC:\\ProgramData\\Miniconda3\\envs\\keras\\lib\\site-packages\\keras\\models.py\u001b[0m in \u001b[0;36msave_model\u001b[1;34m(model, filepath, overwrite, include_optimizer)\u001b[0m\n\u001b[0;32m    104\u001b[0m             \u001b[1;32mreturn\u001b[0m\u001b[1;33m\u001b[0m\u001b[0m\n\u001b[0;32m    105\u001b[0m \u001b[1;33m\u001b[0m\u001b[0m\n\u001b[1;32m--> 106\u001b[1;33m     \u001b[1;32mwith\u001b[0m \u001b[0mh5py\u001b[0m\u001b[1;33m.\u001b[0m\u001b[0mFile\u001b[0m\u001b[1;33m(\u001b[0m\u001b[0mfilepath\u001b[0m\u001b[1;33m,\u001b[0m \u001b[0mmode\u001b[0m\u001b[1;33m=\u001b[0m\u001b[1;34m'w'\u001b[0m\u001b[1;33m)\u001b[0m \u001b[1;32mas\u001b[0m \u001b[0mf\u001b[0m\u001b[1;33m:\u001b[0m\u001b[1;33m\u001b[0m\u001b[0m\n\u001b[0m\u001b[0;32m    107\u001b[0m         \u001b[0mf\u001b[0m\u001b[1;33m.\u001b[0m\u001b[0mattrs\u001b[0m\u001b[1;33m[\u001b[0m\u001b[1;34m'keras_version'\u001b[0m\u001b[1;33m]\u001b[0m \u001b[1;33m=\u001b[0m \u001b[0mstr\u001b[0m\u001b[1;33m(\u001b[0m\u001b[0mkeras_version\u001b[0m\u001b[1;33m)\u001b[0m\u001b[1;33m.\u001b[0m\u001b[0mencode\u001b[0m\u001b[1;33m(\u001b[0m\u001b[1;34m'utf8'\u001b[0m\u001b[1;33m)\u001b[0m\u001b[1;33m\u001b[0m\u001b[0m\n\u001b[0;32m    108\u001b[0m         \u001b[0mf\u001b[0m\u001b[1;33m.\u001b[0m\u001b[0mattrs\u001b[0m\u001b[1;33m[\u001b[0m\u001b[1;34m'backend'\u001b[0m\u001b[1;33m]\u001b[0m \u001b[1;33m=\u001b[0m \u001b[0mK\u001b[0m\u001b[1;33m.\u001b[0m\u001b[0mbackend\u001b[0m\u001b[1;33m(\u001b[0m\u001b[1;33m)\u001b[0m\u001b[1;33m.\u001b[0m\u001b[0mencode\u001b[0m\u001b[1;33m(\u001b[0m\u001b[1;34m'utf8'\u001b[0m\u001b[1;33m)\u001b[0m\u001b[1;33m\u001b[0m\u001b[0m\n",
      "\u001b[1;32mC:\\ProgramData\\Miniconda3\\envs\\keras\\lib\\site-packages\\h5py\\_hl\\files.py\u001b[0m in \u001b[0;36m__init__\u001b[1;34m(self, name, mode, driver, libver, userblock_size, swmr, **kwds)\u001b[0m\n\u001b[0;32m    267\u001b[0m             \u001b[1;32mwith\u001b[0m \u001b[0mphil\u001b[0m\u001b[1;33m:\u001b[0m\u001b[1;33m\u001b[0m\u001b[0m\n\u001b[0;32m    268\u001b[0m                 \u001b[0mfapl\u001b[0m \u001b[1;33m=\u001b[0m \u001b[0mmake_fapl\u001b[0m\u001b[1;33m(\u001b[0m\u001b[0mdriver\u001b[0m\u001b[1;33m,\u001b[0m \u001b[0mlibver\u001b[0m\u001b[1;33m,\u001b[0m \u001b[1;33m**\u001b[0m\u001b[0mkwds\u001b[0m\u001b[1;33m)\u001b[0m\u001b[1;33m\u001b[0m\u001b[0m\n\u001b[1;32m--> 269\u001b[1;33m                 \u001b[0mfid\u001b[0m \u001b[1;33m=\u001b[0m \u001b[0mmake_fid\u001b[0m\u001b[1;33m(\u001b[0m\u001b[0mname\u001b[0m\u001b[1;33m,\u001b[0m \u001b[0mmode\u001b[0m\u001b[1;33m,\u001b[0m \u001b[0muserblock_size\u001b[0m\u001b[1;33m,\u001b[0m \u001b[0mfapl\u001b[0m\u001b[1;33m,\u001b[0m \u001b[0mswmr\u001b[0m\u001b[1;33m=\u001b[0m\u001b[0mswmr\u001b[0m\u001b[1;33m)\u001b[0m\u001b[1;33m\u001b[0m\u001b[0m\n\u001b[0m\u001b[0;32m    270\u001b[0m \u001b[1;33m\u001b[0m\u001b[0m\n\u001b[0;32m    271\u001b[0m                 \u001b[1;32mif\u001b[0m \u001b[0mswmr_support\u001b[0m\u001b[1;33m:\u001b[0m\u001b[1;33m\u001b[0m\u001b[0m\n",
      "\u001b[1;32mC:\\ProgramData\\Miniconda3\\envs\\keras\\lib\\site-packages\\h5py\\_hl\\files.py\u001b[0m in \u001b[0;36mmake_fid\u001b[1;34m(name, mode, userblock_size, fapl, fcpl, swmr)\u001b[0m\n\u001b[0;32m    103\u001b[0m         \u001b[0mfid\u001b[0m \u001b[1;33m=\u001b[0m \u001b[0mh5f\u001b[0m\u001b[1;33m.\u001b[0m\u001b[0mcreate\u001b[0m\u001b[1;33m(\u001b[0m\u001b[0mname\u001b[0m\u001b[1;33m,\u001b[0m \u001b[0mh5f\u001b[0m\u001b[1;33m.\u001b[0m\u001b[0mACC_EXCL\u001b[0m\u001b[1;33m,\u001b[0m \u001b[0mfapl\u001b[0m\u001b[1;33m=\u001b[0m\u001b[0mfapl\u001b[0m\u001b[1;33m,\u001b[0m \u001b[0mfcpl\u001b[0m\u001b[1;33m=\u001b[0m\u001b[0mfcpl\u001b[0m\u001b[1;33m)\u001b[0m\u001b[1;33m\u001b[0m\u001b[0m\n\u001b[0;32m    104\u001b[0m     \u001b[1;32melif\u001b[0m \u001b[0mmode\u001b[0m \u001b[1;33m==\u001b[0m \u001b[1;34m'w'\u001b[0m\u001b[1;33m:\u001b[0m\u001b[1;33m\u001b[0m\u001b[0m\n\u001b[1;32m--> 105\u001b[1;33m         \u001b[0mfid\u001b[0m \u001b[1;33m=\u001b[0m \u001b[0mh5f\u001b[0m\u001b[1;33m.\u001b[0m\u001b[0mcreate\u001b[0m\u001b[1;33m(\u001b[0m\u001b[0mname\u001b[0m\u001b[1;33m,\u001b[0m \u001b[0mh5f\u001b[0m\u001b[1;33m.\u001b[0m\u001b[0mACC_TRUNC\u001b[0m\u001b[1;33m,\u001b[0m \u001b[0mfapl\u001b[0m\u001b[1;33m=\u001b[0m\u001b[0mfapl\u001b[0m\u001b[1;33m,\u001b[0m \u001b[0mfcpl\u001b[0m\u001b[1;33m=\u001b[0m\u001b[0mfcpl\u001b[0m\u001b[1;33m)\u001b[0m\u001b[1;33m\u001b[0m\u001b[0m\n\u001b[0m\u001b[0;32m    106\u001b[0m     \u001b[1;32melif\u001b[0m \u001b[0mmode\u001b[0m \u001b[1;33m==\u001b[0m \u001b[1;34m'a'\u001b[0m\u001b[1;33m:\u001b[0m\u001b[1;33m\u001b[0m\u001b[0m\n\u001b[0;32m    107\u001b[0m         \u001b[1;31m# Open in append mode (read/write).\u001b[0m\u001b[1;33m\u001b[0m\u001b[1;33m\u001b[0m\u001b[0m\n",
      "\u001b[1;32mh5py\\_objects.pyx\u001b[0m in \u001b[0;36mh5py._objects.with_phil.wrapper\u001b[1;34m()\u001b[0m\n",
      "\u001b[1;32mh5py\\_objects.pyx\u001b[0m in \u001b[0;36mh5py._objects.with_phil.wrapper\u001b[1;34m()\u001b[0m\n",
      "\u001b[1;32mh5py\\h5f.pyx\u001b[0m in \u001b[0;36mh5py.h5f.create\u001b[1;34m()\u001b[0m\n",
      "\u001b[1;32mh5py\\h5g.pyx\u001b[0m in \u001b[0;36mh5py.h5g.GroupID.__init__\u001b[1;34m()\u001b[0m\n",
      "\u001b[1;32mh5py\\h5g.pyx\u001b[0m in \u001b[0;36mh5py.h5g.GroupID.__init__\u001b[1;34m()\u001b[0m\n",
      "\u001b[1;32mC:\\ProgramData\\Miniconda3\\envs\\keras\\lib\\importlib\\_bootstrap.py\u001b[0m in \u001b[0;36mparent\u001b[1;34m(self)\u001b[0m\n",
      "\u001b[1;31mKeyboardInterrupt\u001b[0m: "
     ]
    }
   ],
   "source": [
    "# earlystopper = EarlyStopping(patience=100, verbose=1)\n",
    "checkpointer = ModelCheckpoint('model-dsbowl2018-1.h5', verbose=1, save_best_only=True)\n",
    "reduce_lr = ReduceLROnPlateau(monitor='loss', factor=0.33, patience=10, min_lr=1e-6)\n",
    "\n",
    "results = model.fit(X_train, Y_train, validation_split=0.1, batch_size=16, epochs=200, \n",
    "                    callbacks=[checkpointer, reduce_lr])"
   ]
  },
  {
   "cell_type": "code",
   "execution_count": null,
   "metadata": {},
   "outputs": [],
   "source": [
    "model.save_weights(\"model-dsbowl2018-2.h5\")"
   ]
  },
  {
   "cell_type": "code",
   "execution_count": null,
   "metadata": {},
   "outputs": [],
   "source": []
  }
 ],
 "metadata": {
  "kernelspec": {
   "display_name": "keras",
   "language": "python",
   "name": "keras"
  },
  "language_info": {
   "codemirror_mode": {
    "name": "ipython",
    "version": 3
   },
   "file_extension": ".py",
   "mimetype": "text/x-python",
   "name": "python",
   "nbconvert_exporter": "python",
   "pygments_lexer": "ipython3",
   "version": "3.6.4"
  }
 },
 "nbformat": 4,
 "nbformat_minor": 2
}
