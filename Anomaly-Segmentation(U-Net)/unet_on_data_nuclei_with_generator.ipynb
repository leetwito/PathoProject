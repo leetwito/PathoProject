{
 "cells": [
  {
   "cell_type": "code",
   "execution_count": null,
   "metadata": {},
   "outputs": [],
   "source": [
    "import numpy as np\n",
    "import pandas as pd\n",
    "import matplotlib.pyplot as plt\n",
    "import cv2\n",
    "import os\n",
    "from os.path import join\n",
    "import glob\n",
    "import sys\n",
    "import random\n",
    "import warnings\n",
    "from tqdm import tqdm\n",
    "import itertools\n",
    "from itertools import chain\n",
    "from skimage.io import imread, imshow, imread_collection, concatenate_images\n",
    "from skimage.transform import resize\n",
    "from skimage.morphology import label\n",
    "from sklearn.model_selection import train_test_split\n",
    "import tensorflow as tf\n",
    "import keras\n",
    "from keras.models import Sequential\n",
    "from keras.layers import Dense, Dropout, Activation, Flatten, Conv2D, MaxPooling2D, BatchNormalization, Conv2D, UpSampling2D, Lambda\n",
    "from keras.layers import merge\n",
    "from keras.models import Model, load_model\n",
    "from keras.layers import Input\n",
    "from keras.layers.core import Dropout, Lambda\n",
    "from keras.layers.convolutional import Conv2D, Conv2DTranspose\n",
    "from keras.layers.pooling import MaxPooling2D\n",
    "from keras.layers.merge import concatenate\n",
    "from keras import backend as K\n",
    "from keras.callbacks import Callback, EarlyStopping, ReduceLROnPlateau, ModelCheckpoint\n",
    "from keras import initializers, layers, models\n",
    "from keras.utils import to_categorical\n",
    "from keras.utils.vis_utils import plot_model\n",
    "from keras.preprocessing.image import ImageDataGenerator\n",
    "from keras import callbacks\n",
    "# Remember to enable GPU\n",
    "# %matplotlib inline\n",
    "\n",
    "from models import *\n",
    "from losses_and_metrics import *\n",
    "\n",
    "import tensorflow as tf\n",
    "from keras.optimizers import Adam\n",
    "\n",
    "__READ_FROM_PICKLES__ = True\n",
    "\n",
    "# %load_ext autoreload\n",
    "# %autoreload 2"
   ]
  },
  {
   "cell_type": "code",
   "execution_count": null,
   "metadata": {},
   "outputs": [],
   "source": [
    "BATCH_SIZE = 16"
   ]
  },
  {
   "cell_type": "code",
   "execution_count": null,
   "metadata": {},
   "outputs": [],
   "source": [
    "def read_data_from_pickles(X_path=\"my_saved_files/X_train.npy\", \n",
    "                           Y_path=\"my_saved_files/Y_train.npy\", \n",
    "                           train_ids_path=\"my_saved_files/train_ids_ser.p\"):\n",
    "    \n",
    "    \n",
    "    X_train = np.load(X_path)\n",
    "    Y_train = np.load(Y_path)\n",
    "    train_ids_ser = pd.read_pickle(train_ids_path)\n",
    "    \n",
    "    X_test = np.load(\"my_saved_files/X_test.npy\")\n",
    "    test_ids_ser = pd.read_pickle(\"my_saved_files/test_ids_ser.p\")\n",
    "\n",
    "    print(X_train.shape, Y_train.shape, train_ids_ser.shape)\n",
    "    \n",
    "    return X_train, Y_train, train_ids_ser, X_test, test_ids_ser"
   ]
  },
  {
   "cell_type": "code",
   "execution_count": null,
   "metadata": {},
   "outputs": [],
   "source": [
    "X, Y, train_ids_ser, X_, test_ids_ser = read_data_from_pickles()"
   ]
  },
  {
   "cell_type": "code",
   "execution_count": null,
   "metadata": {},
   "outputs": [],
   "source": [
    "X.max(), Y.max()"
   ]
  },
  {
   "cell_type": "code",
   "execution_count": null,
   "metadata": {},
   "outputs": [],
   "source": [
    "X_train, X_test, Y_train, Y_test = train_test_split(X, Y, test_size=0.1, random_state=42)\n",
    "X_train, X_val, Y_train, Y_val = train_test_split(X_train, Y_train, test_size=0.1, random_state=42)"
   ]
  },
  {
   "cell_type": "code",
   "execution_count": null,
   "metadata": {},
   "outputs": [],
   "source": [
    "data_gen_args = dict(\n",
    "#                         fill_mode=\"constant\", # the new pixels filling method (options: ...) \n",
    "#                         cval=255,             # for fill_mode=\"constant\", the value those pixels receives.\n",
    "#                         height_shift_range=0.3, # randomly shifts the image up/down up to 30% of the image height \n",
    "                    )\n",
    "\n",
    "\n",
    "gen = ImageDataGenerator(**data_gen_args)\n",
    "gen.fit(X_train) # not really required here, until some augmentations rely on all data-set (X) data\n",
    "gen = gen.flow(X_train, Y_train, batch_size=BATCH_SIZE)\n",
    "\n",
    "gen_val = ImageDataGenerator(**data_gen_args)\n",
    "gen_val.fit(X_train) # not really required here, until some augmentations rely on all data-set (X) data\n",
    "gen_val = gen_val.flow(X_val, Y_val, batch_size=BATCH_SIZE)"
   ]
  },
  {
   "cell_type": "code",
   "execution_count": null,
   "metadata": {},
   "outputs": [],
   "source": [
    "# how to use this iterator:\n",
    "x, y = gen.next()\n",
    "print(x.shape, y.shape, x.max(), y.max())"
   ]
  },
  {
   "cell_type": "code",
   "execution_count": null,
   "metadata": {},
   "outputs": [],
   "source": [
    "unet = myUnetHP()\n",
    "model = unet.build(n_depth_layers=6, n_init_filters=16)"
   ]
  },
  {
   "cell_type": "code",
   "execution_count": null,
   "metadata": {},
   "outputs": [],
   "source": [
    "# Compile model:\n",
    "model.compile(optimizer=Adam(lr = 1e-3), loss='binary_crossentropy', metrics=[mean_iou])"
   ]
  },
  {
   "cell_type": "code",
   "execution_count": null,
   "metadata": {},
   "outputs": [],
   "source": [
    "# earlystopper = EarlyStopping(patience=100, verbose=1)\n",
    "checkpointer = ModelCheckpoint('model-dsbowl2018-1.h5', verbose=1, save_best_only=True)\n",
    "reduce_lr = ReduceLROnPlateau(monitor='loss', factor=0.33, patience=10, min_lr=1e-6)"
   ]
  },
  {
   "cell_type": "code",
   "execution_count": null,
   "metadata": {},
   "outputs": [],
   "source": [
    "model.load_weights('model-dsbowl2018-1.h5')\n",
    "results = model.fit_generator(gen, epochs=200, steps_per_epoch=X_train.shape[0]//BATCH_SIZE, \n",
    "                              validation_data=gen_val, callbacks=[checkpointer, reduce_lr])"
   ]
  },
  {
   "cell_type": "code",
   "execution_count": null,
   "metadata": {},
   "outputs": [],
   "source": [
    "model.save_weights(\"model-dsbowl2018-2.h5\")"
   ]
  },
  {
   "cell_type": "code",
   "execution_count": null,
   "metadata": {},
   "outputs": [],
   "source": []
  }
 ],
 "metadata": {
  "kernelspec": {
   "display_name": "keras",
   "language": "python",
   "name": "keras"
  },
  "language_info": {
   "codemirror_mode": {
    "name": "ipython",
    "version": 3
   },
   "file_extension": ".py",
   "mimetype": "text/x-python",
   "name": "python",
   "nbconvert_exporter": "python",
   "pygments_lexer": "ipython3",
   "version": "3.6.4"
  }
 },
 "nbformat": 4,
 "nbformat_minor": 2
}
