{
 "cells": [
  {
   "cell_type": "code",
   "execution_count": 22,
   "metadata": {},
   "outputs": [],
   "source": [
    "from imports import *\n",
    "from glob import glob"
   ]
  },
  {
   "cell_type": "code",
   "execution_count": 28,
   "metadata": {},
   "outputs": [],
   "source": [
    "def from_binary_masks_to_colored_mask(masks):\n",
    "    ### masks is a list of binary masks\n",
    "    cmap=plt.cm.get_cmap('nipy_spectral')\n",
    "    final = np.zeros((masks[0].shape[0], masks[0].shape[1], 3))\n",
    "    for i in range(len(masks)):\n",
    "        final[:,:,0] += masks[i]*cmap(i/len(masks))[0]\n",
    "        final[:,:,1] += masks[i]*cmap(i/len(masks))[1]\n",
    "        final[:,:,2] += masks[i]*cmap(i/len(masks))[2]\n",
    "    return final"
   ]
  },
  {
   "cell_type": "code",
   "execution_count": 29,
   "metadata": {},
   "outputs": [],
   "source": [
    "def read_masks_from_dir(path):\n",
    "    ### path comes with / at the end\n",
    "    masks = []\n",
    "    paths = glob(path + '*')\n",
    "    for im_path in paths:\n",
    "        masks.append(plt.imread(im_path))\n",
    "    return masks"
   ]
  },
  {
   "cell_type": "code",
   "execution_count": 35,
   "metadata": {},
   "outputs": [
    {
     "data": {
      "image/png": "[encoded data removed]",
      "text/plain": [
       "<Figure size 432x288 with 1 Axes>"
      ]
     },
     "metadata": {},
     "output_type": "display_data"
    }
   ],
   "source": [
    "if __name__==\"__main__\":\n",
    "    path = \"input/stage1_train/00071198d059ba7f5914a526d124d28e6d010c92466da21d4a04cd5413362552/masks/\"\n",
    "    masks = read_masks_from_dir(path)\n",
    "    colored_mask = from_binary_masks_to_colored_mask(masks)\n",
    "    plt.imshow(colored_mask)"
   ]
  },
  {
   "cell_type": "code",
   "execution_count": 39,
   "metadata": {},
   "outputs": [],
   "source": [
    "def from_masks_to_binary_mask(masks):\n",
    "    final = np.zeros((masks[0].shape[0], masks[0].shape[1]))\n",
    "    for i in range(len(masks)):\n",
    "        msk = masks[i]\n",
    "        final += msk\n",
    "    return final"
   ]
  },
  {
   "cell_type": "code",
   "execution_count": 41,
   "metadata": {},
   "outputs": [
    {
     "data": {
      "image/png": "[encoded data removed]",
      "text/plain": [
       "<Figure size 432x288 with 1 Axes>"
      ]
     },
     "metadata": {},
     "output_type": "display_data"
    }
   ],
   "source": [
    "if __name__==\"__main__\":\n",
    "    mask = from_masks_to_binary_mask(masks)\n",
    "    plt.imshow(mask)"
   ]
  },
  {
   "cell_type": "code",
   "execution_count": 43,
   "metadata": {},
   "outputs": [],
   "source": [
    "def from_binary_mask_to_masks(mask):\n",
    "    pass"
   ]
  },
  {
   "cell_type": "code",
   "execution_count": 44,
   "metadata": {},
   "outputs": [],
   "source": [
    "def from_mask_to_contour(mask):\n",
    "    pass"
   ]
  },
  {
   "cell_type": "code",
   "execution_count": 45,
   "metadata": {},
   "outputs": [],
   "source": [
    "def from_masks_to_contours(masks):\n",
    "    pass"
   ]
  },
  {
   "cell_type": "code",
   "execution_count": null,
   "metadata": {},
   "outputs": [],
   "source": []
  },
  {
   "cell_type": "code",
   "execution_count": null,
   "metadata": {},
   "outputs": [],
   "source": [
    "imgs = []\n",
    "masks = {}\n",
    "contours = []\n",
    "for im_idx, im_path in enumerate(imgs_paths):\n",
    "    image = plt.imread(im_path)[:,:,:3]\n",
    "    imgs.append(image)\n",
    "    masks[im_idx] = np.zeros((image.shape[0], image.shape[1]))\n",
    "#     print(masks[im_idx].shape)\n",
    "#     print(image.shape)\n",
    "    plt.imshow(image)\n",
    "    plt.show\n",
    "    for mask_idx, mask_path in enumerate(masks_paths):\n",
    "#         print(plt.imread(mask).shape)\n",
    "#         print(masks[im_idx].shape) \n",
    "        try:\n",
    "            masks[im_idx] += mask_idx * plt.imread(mask_path)\n",
    "        except:\n",
    "            print(mask_path)\n",
    "            print(plt.imread(mask_path).shape)\n",
    "    \n",
    "    print(masks_idx.dtype)\n",
    "    plt.subplot(1,3,1)\n",
    "    plt.imshow(image)\n",
    "    plt.subplot(1,3,2)\n",
    "    plt.imshow(masks[im_idx])\n",
    "    plt.show"
   ]
  },
  {
   "cell_type": "code",
   "execution_count": null,
   "metadata": {},
   "outputs": [],
   "source": []
  },
  {
   "cell_type": "code",
   "execution_count": 66,
   "metadata": {},
   "outputs": [
    {
     "data": {
      "text/plain": [
       "'input/stage1_train\\\\00071198d059ba7f5914a526d124d28e6d010c92466da21d4a04cd5413362552'"
      ]
     },
     "execution_count": 66,
     "metadata": {},
     "output_type": "execute_result"
    }
   ],
   "source": [
    "samples = glob(\"input/stage1_train/*\")\n",
    "samples[0]"
   ]
  },
  {
   "cell_type": "code",
   "execution_count": 67,
   "metadata": {},
   "outputs": [
    {
     "data": {
      "text/plain": [
       "['input/stage1_train\\\\00071198d059ba7f5914a526d124d28e6d010c92466da21d4a04cd5413362552/images\\\\00071198d059ba7f5914a526d124d28e6d010c92466da21d4a04cd5413362552.png']"
      ]
     },
     "execution_count": 67,
     "metadata": {},
     "output_type": "execute_result"
    }
   ],
   "source": [
    "glob(samples[0] + \"/images/*\")"
   ]
  },
  {
   "cell_type": "code",
   "execution_count": 77,
   "metadata": {},
   "outputs": [
    {
     "name": "stdout",
     "output_type": "stream",
     "text": [
      "---------------------------------\n",
      "img shape: (256, 256, 3)\n",
      "\n",
      " (256, 256)\n",
      "\n",
      " (256, 256)\n",
      "\n",
      " (256, 256)\n",
      "\n",
      " (256, 256)\n",
      "\n",
      " (256, 256)\n",
      "\n",
      " (256, 256)\n",
      "\n",
      " (256, 256)\n",
      "\n",
      " (256, 256)\n",
      "\n",
      " (256, 256)\n",
      "\n",
      " (256, 256)\n",
      "\n",
      " (256, 256)\n",
      "\n",
      " (256, 256)\n",
      "\n",
      " (256, 256)\n",
      "\n",
      " (256, 256)\n",
      "\n",
      " (256, 256)\n",
      "\n",
      " (256, 256)\n",
      "\n",
      " (256, 256)\n",
      "\n",
      " (256, 256)\n",
      "\n",
      " (256, 256)\n",
      "\n",
      " (256, 256)\n",
      "\n",
      " (256, 256)\n",
      "\n",
      " (256, 256)\n",
      "\n",
      " (256, 256)\n",
      "\n",
      " (256, 256)\n",
      "\n",
      " (256, 256)\n",
      "\n",
      " (256, 256)\n",
      "\n",
      " (256, 256)\n",
      "---------------------------------\n",
      "img shape: (256, 256, 3)\n",
      "\n",
      " (256, 256)\n",
      "\n",
      " (256, 256)\n",
      "\n",
      " (256, 256)\n",
      "\n",
      " (256, 256)\n",
      "\n",
      " (256, 256)\n",
      "\n",
      " (256, 256)\n",
      "\n",
      " (256, 256)\n",
      "\n",
      " (256, 256)\n",
      "\n",
      " (256, 256)\n",
      "\n",
      " (256, 256)\n",
      "\n",
      " (256, 256)\n",
      "\n",
      " (256, 256)\n",
      "\n",
      " (256, 256)\n",
      "\n",
      " (256, 256)\n",
      "\n",
      " (256, 256)\n",
      "\n",
      " (256, 256)\n",
      "\n",
      " (256, 256)\n",
      "\n",
      " (256, 256)\n",
      "\n",
      " (256, 256)\n",
      "\n",
      " (256, 256)\n",
      "\n",
      " (256, 256)\n",
      "\n",
      " (256, 256)\n",
      "\n",
      " (256, 256)\n",
      "\n",
      " (256, 256)\n",
      "\n",
      " (256, 256)\n",
      "\n",
      " (256, 256)\n",
      "\n",
      " (256, 256)\n",
      "\n",
      " (256, 256)\n",
      "\n",
      " (256, 256)\n",
      "\n",
      " (256, 256)\n",
      "\n",
      " (256, 256)\n",
      "\n",
      " (256, 256)\n",
      "\n",
      " (256, 256)\n",
      "\n",
      " (256, 256)\n",
      "\n",
      " (256, 256)\n",
      "\n",
      " (256, 256)\n",
      "---------------------------------\n",
      "img shape: (256, 320, 3)\n",
      "\n",
      " (256, 320)\n",
      "\n",
      " (256, 320)\n",
      "\n",
      " (256, 320)\n",
      "\n",
      " (256, 320)\n",
      "\n",
      " (256, 320)\n",
      "\n",
      " (256, 320)\n",
      "\n",
      " (256, 320)\n",
      "\n",
      " (256, 320)\n",
      "\n",
      " (256, 320)\n",
      "\n",
      " (256, 320)\n",
      "\n",
      " (256, 320)\n",
      "\n",
      " (256, 320)\n",
      "\n",
      " (256, 320)\n",
      "\n",
      " (256, 320)\n",
      "\n",
      " (256, 320)\n",
      "\n",
      " (256, 320)\n",
      "\n",
      " (256, 320)\n",
      "\n",
      " (256, 320)\n",
      "\n",
      " (256, 320)\n",
      "\n",
      " (256, 320)\n",
      "\n",
      " (256, 320)\n",
      "\n",
      " (256, 320)\n",
      "\n",
      " (256, 320)\n",
      "\n",
      " (256, 320)\n",
      "\n",
      " (256, 320)\n",
      "\n",
      " (256, 320)\n",
      "\n",
      " (256, 320)\n",
      "\n",
      " (256, 320)\n",
      "\n",
      " (256, 320)\n",
      "\n",
      " (256, 320)\n",
      "\n",
      " (256, 320)\n",
      "\n",
      " (256, 320)\n",
      "\n",
      " (256, 320)\n",
      "\n",
      " (256, 320)\n",
      "\n",
      " (256, 320)\n",
      "\n",
      " (256, 320)\n",
      "\n",
      " (256, 320)\n",
      "\n",
      " (256, 320)\n",
      "\n",
      " (256, 320)\n",
      "\n",
      " (256, 320)\n",
      "\n",
      " (256, 320)\n",
      "\n",
      " (256, 320)\n",
      "\n",
      " (256, 320)\n",
      "\n",
      " (256, 320)\n",
      "\n",
      " (256, 320)\n",
      "\n",
      " (256, 320)\n",
      "\n",
      " (256, 320)\n",
      "\n",
      " (256, 320)\n",
      "\n",
      " (256, 320)\n",
      "\n",
      " (256, 320)\n",
      "\n",
      " (256, 320)\n",
      "\n",
      " (256, 320)\n",
      "\n",
      " (256, 320)\n",
      "\n",
      " (256, 320)\n",
      "\n",
      " (256, 320)\n",
      "\n",
      " (256, 320)\n",
      "\n",
      " (256, 320)\n",
      "\n",
      " (256, 320)\n",
      "\n",
      " (256, 320)\n",
      "\n",
      " (256, 320)\n",
      "\n",
      " (256, 320)\n",
      "\n",
      " (256, 320)\n",
      "\n",
      " (256, 320)\n",
      "\n",
      " (256, 320)\n",
      "\n",
      " (256, 320)\n",
      "\n",
      " (256, 320)\n",
      "\n",
      " (256, 320)\n",
      "\n",
      " (256, 320)\n",
      "\n",
      " (256, 320)\n",
      "\n",
      " (256, 320)\n"
     ]
    }
   ],
   "source": [
    "images = []\n",
    "binary_masks = []\n",
    "colored_masks = []\n",
    "for sample in samples[:3]:\n",
    "    print(\"---------------------------------\")\n",
    "    img_f = glob(sample + \"/images/*\")\n",
    "    images.append(plt.imread(img_f[0])[:, :, :3])\n",
    "    masks = read_masks_from_dir(sample + \"/masks/\")\n",
    "    print(\"img shape:\", images[-1].shape)\n",
    "    for mask in masks:\n",
    "        print(\"\\n\", mask.shape)\n",
    "    binary_masks.append(from_masks_to_binary_mask(masks))\n",
    "    colored_masks.append(from_binary_masks_to_colored_mask(masks))\n",
    "# binary_masks = np.stack(binary_masks)\n",
    "# colored_masks = np.stack(colored_masks)"
   ]
  },
  {
   "cell_type": "code",
   "execution_count": 71,
   "metadata": {},
   "outputs": [
    {
     "data": {
      "text/plain": [
       "<matplotlib.image.AxesImage at 0x22b019a4550>"
      ]
     },
     "execution_count": 71,
     "metadata": {},
     "output_type": "execute_result"
    },
    {
     "data": {
      "image/png": "[encoded data removed]",
      "text/plain": [
       "<Figure size 432x288 with 1 Axes>"
      ]
     },
     "metadata": {},
     "output_type": "display_data"
    }
   ],
   "source": [
    "plt.imshow(colored_masks[0])"
   ]
  },
  {
   "cell_type": "code",
   "execution_count": 72,
   "metadata": {},
   "outputs": [
    {
     "data": {
      "text/plain": [
       "<matplotlib.image.AxesImage at 0x22b01b7fcc0>"
      ]
     },
     "execution_count": 72,
     "metadata": {},
     "output_type": "execute_result"
    },
    {
     "data": {
      "image/png": "[encoded data removed]",
      "text/plain": [
       "<Figure size 432x288 with 1 Axes>"
      ]
     },
     "metadata": {},
     "output_type": "display_data"
    }
   ],
   "source": [
    "plt.imshow(binary_masks[0])"
   ]
  },
  {
   "cell_type": "code",
   "execution_count": null,
   "metadata": {},
   "outputs": [],
   "source": [
    "img_f"
   ]
  },
  {
   "cell_type": "code",
   "execution_count": null,
   "metadata": {},
   "outputs": [],
   "source": []
  }
 ],
 "metadata": {
  "kernelspec": {
   "display_name": "keras",
   "language": "python",
   "name": "keras"
  },
  "language_info": {
   "codemirror_mode": {
    "name": "ipython",
    "version": 3
   },
   "file_extension": ".py",
   "mimetype": "text/x-python",
   "name": "python",
   "nbconvert_exporter": "python",
   "pygments_lexer": "ipython3",
   "version": "3.6.5"
  }
 },
 "nbformat": 4,
 "nbformat_minor": 2
}
