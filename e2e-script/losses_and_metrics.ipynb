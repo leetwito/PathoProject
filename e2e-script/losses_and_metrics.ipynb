{
 "cells": [
  {
   "cell_type": "code",
   "execution_count": 1,
   "metadata": {},
   "outputs": [
    {
     "name": "stderr",
     "output_type": "stream",
     "text": [
      "C:\\Users\\leetw\\Anaconda3\\envs\\keras\\lib\\site-packages\\h5py\\__init__.py:36: FutureWarning: Conversion of the second argument of issubdtype from `float` to `np.floating` is deprecated. In future, it will be treated as `np.float64 == np.dtype(float).type`.\n",
      "  from ._conv import register_converters as _register_converters\n",
      "Using TensorFlow backend.\n"
     ]
    }
   ],
   "source": [
    "import numpy as np\n",
    "import pandas as pd\n",
    "import matplotlib.pyplot as plt\n",
    "import cv2\n",
    "import os\n",
    "from os.path import join\n",
    "import glob\n",
    "import sys\n",
    "import random\n",
    "import warnings\n",
    "from tqdm import tqdm\n",
    "import itertools\n",
    "from itertools import chain\n",
    "from skimage.io import imread, imshow, imread_collection, concatenate_images\n",
    "from skimage.transform import resize\n",
    "from skimage.morphology import label\n",
    "from sklearn.model_selection import train_test_split\n",
    "import tensorflow as tf\n",
    "import keras\n",
    "from keras.models import Sequential\n",
    "from keras.layers import Dense, Dropout, Activation, Flatten, Conv2D, MaxPooling2D, BatchNormalization, Conv2D, UpSampling2D, Lambda\n",
    "from keras.layers import merge\n",
    "from keras.models import Model, load_model\n",
    "from keras.layers import Input\n",
    "from keras.layers.core import Dropout, Lambda\n",
    "from keras.layers.convolutional import Conv2D, Conv2DTranspose\n",
    "from keras.layers.pooling import MaxPooling2D\n",
    "from keras.layers.merge import concatenate\n",
    "from keras import backend as K\n",
    "from keras.callbacks import Callback, EarlyStopping, ReduceLROnPlateau, ModelCheckpoint\n",
    "from keras import initializers, layers, models\n",
    "from keras.utils import to_categorical\n",
    "from keras.utils.vis_utils import plot_model\n",
    "from keras.preprocessing.image import ImageDataGenerator\n",
    "from keras import callbacks\n",
    "# Remember to enable GPU\n",
    "# %matplotlib inline\n",
    "\n",
    "import tensorflow as tf\n",
    "from keras.optimizers import Adam\n",
    "\n",
    "__READ_FROM_PICKLES__ = True"
   ]
  },
  {
   "cell_type": "code",
   "execution_count": 2,
   "metadata": {},
   "outputs": [],
   "source": [
    "def mean_iou(y_true, y_pred, t = 0.5):\n",
    "    y_pred_ = tf.to_int32(y_pred > t)\n",
    "    score, up_opt = tf.metrics.mean_iou(y_true, y_pred_, num_classes=2)\n",
    "    K.get_session().run(tf.local_variables_initializer())\n",
    "    with tf.control_dependencies([up_opt]):\n",
    "        score = tf.identity(score)\n",
    "    return score"
   ]
  },
  {
   "cell_type": "code",
   "execution_count": null,
   "metadata": {},
   "outputs": [],
   "source": [
    "def mean_iou_offline(y_true_in, y_pred_in, t = 0.5):\n",
    "    yt = tf.placeholder(dtype=tf.bool, shape=y_true_in.shape)\n",
    "    yp= tf.placeholder(dtype=tf.float32, shape=y_pred_in.shape)\n",
    "    y_true = tf.to_int32(yt)\n",
    "    y_pred = tf.to_int32(yp > t)\n",
    "    score, up_opt = tf.metrics.mean_iou(yt, y_pred, num_classes=2)\n",
    "#     print(score.get_shape)\n",
    "    with tf.Session() as sess:\n",
    "        sess.run(tf.global_variables_initializer())\n",
    "        sess.run(tf.local_variables_initializer())\n",
    "#         with tf.control_dependencies([up_opt]):\n",
    "#             score = tf.identity(score)\n",
    "        feed_dict = {yt:y_true_in, yp:y_pred_in}\n",
    "        c_mat_out, score_out = sess.run([up_opt, score], feed_dict=feed_dict)\n",
    "    \n",
    "#     K.get_session().run(tf.global_variables_initializer())\n",
    "#     score = K.get_session().run(score)\n",
    "#     with tf.control_dependencies([]):\n",
    "#         score = tf.identity(score)\n",
    "    return c_mat_out[1,1] / (c_mat_out[1,1] + c_mat_out[0,1] + c_mat_out[1,0])"
   ]
  },
  {
   "cell_type": "code",
   "execution_count": 3,
   "metadata": {},
   "outputs": [],
   "source": [
    "def mean_iou_np(y_true, y_pred, t = 0.5):\n",
    "    y_pred = y_pred>t\n",
    "    score = (y_pred*y_true).sum() / (y_pred+y_true).sum()\n",
    "    return score"
   ]
  },
  {
   "cell_type": "code",
   "execution_count": null,
   "metadata": {},
   "outputs": [],
   "source": []
  }
 ],
 "metadata": {
  "kernelspec": {
   "display_name": "keras",
   "language": "python",
   "name": "keras"
  },
  "language_info": {
   "codemirror_mode": {
    "name": "ipython",
    "version": 3
   },
   "file_extension": ".py",
   "mimetype": "text/x-python",
   "name": "python",
   "nbconvert_exporter": "python",
   "pygments_lexer": "ipython3",
   "version": "3.6.5"
  }
 },
 "nbformat": 4,
 "nbformat_minor": 2
}
